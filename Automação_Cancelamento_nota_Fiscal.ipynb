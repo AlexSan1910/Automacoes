{
  "nbformat": 4,
  "nbformat_minor": 0,
  "metadata": {
    "colab": {
      "provenance": [],
      "authorship_tag": "ABX9TyMX/h71VU9reJ3nkd7hOsos",
      "include_colab_link": true
    },
    "kernelspec": {
      "name": "python3",
      "display_name": "Python 3"
    },
    "language_info": {
      "name": "python"
    }
  },
  "cells": [
    {
      "cell_type": "markdown",
      "metadata": {
        "id": "view-in-github",
        "colab_type": "text"
      },
      "source": [
        "<a href=\"https://colab.research.google.com/github/AlexSan1910/Automacoes/blob/main/Automa%C3%A7%C3%A3o_Cancelamento_nota_Fiscal.ipynb\" target=\"_parent\"><img src=\"https://colab.research.google.com/assets/colab-badge.svg\" alt=\"Open In Colab\"/></a>"
      ]
    },
    {
      "cell_type": "code",
      "source": [
        "!pip install selenium\n",
        "!pip install webdriver-manager\n",
        "!pip install selenium-wire\n",
        "!pip install beautifulsoup4"
      ],
      "metadata": {
        "id": "dnGZ6rkbgjba"
      },
      "execution_count": null,
      "outputs": []
    },
    {
      "cell_type": "code",
      "source": [
        "from selenium import webdriver\n",
        "from selenium.webdriver.common.by import By\n",
        "from selenium.webdriver.common.keys     import Keys"
      ],
      "metadata": {
        "id": "DscihxkWmnd_"
      },
      "execution_count": null,
      "outputs": []
    },
    {
      "cell_type": "code",
      "source": [
        "# Lista de números a serem utilizados\n",
        "numeros = [107953, 107957, 107957]\n",
        "\n",
        "# URL do site a ser acessado\n",
        "url = \"https://www.barueri.sp.gov.br/nfe/wfPrincipalNF.aspx\"\n",
        "\n",
        "# Inicializa o navegador\n",
        "driver = webdriver.Chrome()\n",
        "\n",
        "# Acessa o site\n",
        "driver.get(url)\n",
        "\n",
        "time.sleep(30)\n",
        "\n",
        "# Percorre a lista de números\n",
        "for numero in numeros:\n",
        "\n",
        "    # clicar checkbox\n",
        "    driver.find_element(\n",
        "        By.XPATH, '/html/body/form/div[3]/table/tbody/tr[10]/td/table/tbody/tr/td[1]/span/input').click()\n",
        "    time.sleep(3)\n",
        "\n",
        "    # clicar primeiro campo\n",
        "    driver.find_element(\n",
        "        By.XPATH, '/html/body/form/div[3]/table/tbody/tr[11]/td/div/table/tbody/tr[2]/td[1]/input').click()\n",
        "    time.sleep(3)\n",
        "\n",
        "    # Colocar o numero\n",
        "    river.find_element(\n",
        "        By.XPATH, '/html/body/form/div[3]/table/tbody/tr[11]/td/div/table/tbody/tr[2]/td[1]/input').send_keys(str(numero))\n",
        "    time.sleep(3)\n",
        "\n",
        "    # clicar no segundo campo\n",
        "    driver.find_element(\n",
        "        By.XPATH, '/html/body/form/div[3]/table/tbody/tr[11]/td/div/table/tbody/tr[2]/td[2]/input').click()\n",
        "    time.sleep(3)\n",
        "\n",
        "    # Colcoar o numero\n",
        "    driver.find_element(\n",
        "        By.XPATH, '/html/body/form/div[3]/table/tbody/tr[11]/td/div/table/tbody/tr[2]/td[1]/input').send_keys(str(numero))\n",
        "    time.sleep(3)\n",
        "\n",
        "    # clicar no botão consultar\n",
        "    driver.find_element(\n",
        "        By.XPATH, '/html/body/form/div[3]/table/tbody/tr[20]/td/div/a/img').click()\n",
        "    time.sleep(3)\n",
        "\n",
        "    # Clicar em cancelar\n",
        "    driver.find_element(\n",
        "        By.XPATH, '/html/body/form/div[3]/div[2]/table[3]/tbody/tr/td/div/table/tbody/tr/td/table/tbody/tr/td[9]/a/img').click()\n",
        "    time.sleep(3)\n",
        "\n",
        "    # clicar no campo para definir o motivo\n",
        "    driver.find_element(\n",
        "        By.XPATH, '/html/body/form/div[3]/div[2]/div[3]/table/tbody/tr[2]/td/textarea').click()\n",
        "    time.sleep(3)\n",
        "\n",
        "    # Colocar o motivo\n",
        "    driver.find_element(\n",
        "        By.XPATH, '/html/body/form/div[3]/table/tbody/tr[11]/td/div/table/tbody/tr[2]/td[1]/input').send_keys(str(\"NFE emitida com dados incorretos\"))\n",
        "    time.sleep(3)\n",
        "\n",
        "    # clicar em confirmar o cancelamento\n",
        "    driver.find_element(\n",
        "        By.XPATH, '/html/body/form/div[3]/div[2]/div[3]/table/tbody/tr[3]/td/table/tbody/tr/td[2]/a/img').click()\n",
        "    time.sleep(3)\n",
        "\n",
        "    # clicar em cancelar outra nota\n",
        "    driver.find_element(\n",
        "        By.XPATH, '/html/body/form/div[3]/div[3]/table/tbody/tr/td[2]/table/tbody/tr[3]/td[1]/a/img').click()\n",
        "    time.sleep(3)\n",
        "\n",
        "# Fecha o navegador\n",
        "driver.quit()"
      ],
      "metadata": {
        "id": "jbsWe4e7a94s"
      },
      "execution_count": null,
      "outputs": []
    },
    {
      "cell_type": "code",
      "source": [],
      "metadata": {
        "id": "nLFXfGv1gxz3"
      },
      "execution_count": null,
      "outputs": []
    }
  ]
}